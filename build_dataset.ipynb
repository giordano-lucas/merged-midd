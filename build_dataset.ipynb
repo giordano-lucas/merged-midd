{
 "cells": [
  {
   "cell_type": "code",
   "execution_count": 9,
   "source": [
    "from os import walk\n",
    "\n",
    "def get_layout_files(layout):\n",
    "   filenames = next(walk(layout), (None, None, []))[2]  # [] if no file\n",
    "   return filenames\n",
    "\n",
    "def all_files(n_layouts=4):\n",
    "   for layout_id in range(n_layouts):\n",
    "      layout = f'layout{layout_id}'\n",
    "      for file in get_layout_files(layout):\n",
    "         yield f\"{layout}/{file}\", layout_id"
   ],
   "outputs": [],
   "metadata": {}
  },
  {
   "cell_type": "code",
   "execution_count": 11,
   "source": [
    "import pandas as pd\n",
    "\n",
    "dataset = []\n",
    "\n",
    "for file,layout_id in all_files():\n",
    "    df = pd.read_csv(file)\n",
    "    break\n",
    "df"
   ],
   "outputs": [
    {
     "output_type": "execute_result",
     "data": {
      "text/plain": [
       "           Text       Tag\n",
       "0         AVIVA  B-SUPP_N\n",
       "1         DOORS  I-SUPP_N\n",
       "2       Factory         O\n",
       "3     Address:-         O\n",
       "4           GAT         O\n",
       "..          ...       ...\n",
       "390        noid         O\n",
       "391  challenoid         O\n",
       "392           1         O\n",
       "393  Authorised         O\n",
       "394   Signatore         O\n",
       "\n",
       "[395 rows x 2 columns]"
      ],
      "text/html": [
       "<div>\n",
       "<style scoped>\n",
       "    .dataframe tbody tr th:only-of-type {\n",
       "        vertical-align: middle;\n",
       "    }\n",
       "\n",
       "    .dataframe tbody tr th {\n",
       "        vertical-align: top;\n",
       "    }\n",
       "\n",
       "    .dataframe thead th {\n",
       "        text-align: right;\n",
       "    }\n",
       "</style>\n",
       "<table border=\"1\" class=\"dataframe\">\n",
       "  <thead>\n",
       "    <tr style=\"text-align: right;\">\n",
       "      <th></th>\n",
       "      <th>Text</th>\n",
       "      <th>Tag</th>\n",
       "    </tr>\n",
       "  </thead>\n",
       "  <tbody>\n",
       "    <tr>\n",
       "      <th>0</th>\n",
       "      <td>AVIVA</td>\n",
       "      <td>B-SUPP_N</td>\n",
       "    </tr>\n",
       "    <tr>\n",
       "      <th>1</th>\n",
       "      <td>DOORS</td>\n",
       "      <td>I-SUPP_N</td>\n",
       "    </tr>\n",
       "    <tr>\n",
       "      <th>2</th>\n",
       "      <td>Factory</td>\n",
       "      <td>O</td>\n",
       "    </tr>\n",
       "    <tr>\n",
       "      <th>3</th>\n",
       "      <td>Address:-</td>\n",
       "      <td>O</td>\n",
       "    </tr>\n",
       "    <tr>\n",
       "      <th>4</th>\n",
       "      <td>GAT</td>\n",
       "      <td>O</td>\n",
       "    </tr>\n",
       "    <tr>\n",
       "      <th>...</th>\n",
       "      <td>...</td>\n",
       "      <td>...</td>\n",
       "    </tr>\n",
       "    <tr>\n",
       "      <th>390</th>\n",
       "      <td>noid</td>\n",
       "      <td>O</td>\n",
       "    </tr>\n",
       "    <tr>\n",
       "      <th>391</th>\n",
       "      <td>challenoid</td>\n",
       "      <td>O</td>\n",
       "    </tr>\n",
       "    <tr>\n",
       "      <th>392</th>\n",
       "      <td>1</td>\n",
       "      <td>O</td>\n",
       "    </tr>\n",
       "    <tr>\n",
       "      <th>393</th>\n",
       "      <td>Authorised</td>\n",
       "      <td>O</td>\n",
       "    </tr>\n",
       "    <tr>\n",
       "      <th>394</th>\n",
       "      <td>Signatore</td>\n",
       "      <td>O</td>\n",
       "    </tr>\n",
       "  </tbody>\n",
       "</table>\n",
       "<p>395 rows × 2 columns</p>\n",
       "</div>"
      ]
     },
     "metadata": {},
     "execution_count": 11
    }
   ],
   "metadata": {}
  },
  {
   "cell_type": "code",
   "execution_count": 6,
   "source": [
    "import json \n",
    "\n",
    "# Serializing json  \n",
    "json_object = json.dumps({   \n",
    "    \"name\": \"ainsretairn\",\n",
    "    \"layout\":1,\n",
    "    'ner_tag':[],\n",
    "    'token':[]\n",
    "},) \n",
    "print(json_object)\n",
    "\n"
   ],
   "outputs": [
    {
     "output_type": "stream",
     "name": "stdout",
     "text": [
      "{\"name\": \"ainsretairn\", \"layout\": 1, \"ner_tag\": [], \"token\": []}\n"
     ]
    }
   ],
   "metadata": {}
  },
  {
   "cell_type": "code",
   "execution_count": null,
   "source": [],
   "outputs": [],
   "metadata": {}
  }
 ],
 "metadata": {
  "orig_nbformat": 4,
  "language_info": {
   "name": "python",
   "version": "3.9.6",
   "mimetype": "text/x-python",
   "codemirror_mode": {
    "name": "ipython",
    "version": 3
   },
   "pygments_lexer": "ipython3",
   "nbconvert_exporter": "python",
   "file_extension": ".py"
  },
  "kernelspec": {
   "name": "python3",
   "display_name": "Python 3.9.6 64-bit ('wagdoc': conda)"
  },
  "interpreter": {
   "hash": "c0666b40b71ffc40fa50e6bd15b670ad079419ced208c978bf6e613dabd8ca0a"
  }
 },
 "nbformat": 4,
 "nbformat_minor": 2
}